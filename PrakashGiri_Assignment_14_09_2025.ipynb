{
  "nbformat": 4,
  "nbformat_minor": 0,
  "metadata": {
    "colab": {
      "provenance": [],
      "authorship_tag": "ABX9TyNA2en59TgLSrJgS2IfL/4w",
      "include_colab_link": true
    },
    "kernelspec": {
      "name": "python3",
      "display_name": "Python 3"
    },
    "language_info": {
      "name": "python"
    }
  },
  "cells": [
    {
      "cell_type": "markdown",
      "metadata": {
        "id": "view-in-github",
        "colab_type": "text"
      },
      "source": [
        "<a href=\"https://colab.research.google.com/github/PrakashGiri-Kashbro/Assignment-dt.14.09.2025-Conditional-statement-functions-/blob/main/PrakashGiri_Assignment_14_09_2025.ipynb\" target=\"_parent\"><img src=\"https://colab.research.google.com/assets/colab-badge.svg\" alt=\"Open In Colab\"/></a>"
      ]
    },
    {
      "cell_type": "markdown",
      "source": [
        "# Assignment 1:\n",
        "You have a Cinema you are operation giving tickets based on age\n",
        "- children ( Below 12 years) pay 300\n",
        "- Teenager (12 and 17) Pay 500\n",
        "- Adults (18-59) pay 800\n",
        "- Seniors (60+) pay 400\n",
        "\n",
        "Write a pytonon program that will ask\n",
        "1. Ask the user to enter the age\n",
        "2. Uses an if statement to decide the ticket price.\n",
        "3. print \"Your ticket price is AMT:\n",
        "X\" where x is the correct price.\n"
      ],
      "metadata": {
        "id": "65E6q7Q5hoQa"
      }
    },
    {
      "cell_type": "code",
      "source": [
        "# Cinema Ticket Pricing Program\n",
        "\n",
        "# Step 1: Ask the user to enter the age\n",
        "age = int(input(\"Enter customer's age (years): \"))\n",
        "\n",
        "# Step 2: Decide ticket price using if/elif/else\n",
        "if age < 12:\n",
        "    price = 300\n",
        "elif age <= 17:\n",
        "    price = 500\n",
        "elif age <= 59:\n",
        "    price = 800\n",
        "else:  # age >= 60\n",
        "    price = 400\n",
        "\n",
        "# Step 3: Print the result\n",
        "print(f\"Your ticket price is AMT: {price}\")"
      ],
      "metadata": {
        "colab": {
          "base_uri": "https://localhost:8080/"
        },
        "id": "z9Uc72zrPf-1",
        "outputId": "4f23b5e2-4c8a-451a-da11-6d8647dc46e9"
      },
      "execution_count": 1,
      "outputs": [
        {
          "output_type": "stream",
          "name": "stdout",
          "text": [
            "Enter customer's age (years): 39\n",
            "Your ticket price is AMT: 800\n"
          ]
        }
      ]
    },
    {
      "cell_type": "code",
      "source": [
        "# Cinema Ticket Pricing Program\n",
        "\n",
        "# Step 1: Ask the user to enter the age\n",
        "age = int(input(\"Enter customer's age (years): \"))\n",
        "\n",
        "# Step 2: Decide ticket price using if/elif/else\n",
        "if age < 12:\n",
        "    price = 300\n",
        "elif age <= 17:\n",
        "    price = 500\n",
        "elif age <= 59:\n",
        "    price = 800\n",
        "else:  # age >= 60\n",
        "    price = 400\n",
        "\n",
        "# Step 3: Print the result\n",
        "print(f\"Your ticket price is AMT: {price}\")"
      ],
      "metadata": {
        "colab": {
          "base_uri": "https://localhost:8080/"
        },
        "id": "n3v6WREBPtyv",
        "outputId": "c7c139c5-abc9-4359-a3ba-a6228f8b250a"
      },
      "execution_count": 2,
      "outputs": [
        {
          "output_type": "stream",
          "name": "stdout",
          "text": [
            "Enter customer's age (years): 39\n",
            "Your ticket price is AMT: 800\n"
          ]
        }
      ]
    },
    {
      "cell_type": "code",
      "source": [
        "# Cinema Ticket Pricing Program\n",
        "\n",
        "# Step 1: Ask the user to enter the age\n",
        "age = int(input(\"Enter customer's age (years): \"))\n",
        "\n",
        "# Step 2: Decide ticket price using if/elif/else\n",
        "if age < 12:\n",
        "    price = 300\n",
        "elif age <= 17:\n",
        "    price = 500\n",
        "elif age <= 59:\n",
        "    price = 800\n",
        "else:  # age >= 60\n",
        "    price = 400\n",
        "\n",
        "# Step 3: Print the result\n",
        "print(f\"Your ticket price is AMT: {price}\")"
      ],
      "metadata": {
        "colab": {
          "base_uri": "https://localhost:8080/"
        },
        "id": "rIfFi0tFP4qv",
        "outputId": "53581a34-4ffa-4904-bc4d-5425f708d3a3"
      },
      "execution_count": 3,
      "outputs": [
        {
          "output_type": "stream",
          "name": "stdout",
          "text": [
            "Enter customer's age (years): 39\n",
            "Your ticket price is AMT: 800\n"
          ]
        }
      ]
    },
    {
      "cell_type": "code",
      "source": [
        "# Cinema Ticket Pricing Program\n",
        "\n",
        "# Step 1: Ask the user to enter the age\n",
        "age = int(input(\"Enter customer's age (years): \"))\n",
        "\n",
        "# Step 2: Decide ticket price using if/elif/else\n",
        "if age < 12:\n",
        "    price = 300\n",
        "elif age <= 17:\n",
        "    price = 500\n",
        "elif age <= 59:\n",
        "    price = 800\n",
        "else:  # age >= 60\n",
        "    price = 400\n",
        "\n",
        "# Step 3: Print the result\n",
        "print(f\"Your ticket price is AMT: {price}\")"
      ],
      "metadata": {
        "colab": {
          "base_uri": "https://localhost:8080/"
        },
        "id": "alY1OAkaP96p",
        "outputId": "e362ef01-8260-4e2f-c0e8-da8e13f233ac"
      },
      "execution_count": 4,
      "outputs": [
        {
          "output_type": "stream",
          "name": "stdout",
          "text": [
            "Enter customer's age (years): 39\n",
            "Your ticket price is AMT: 800\n"
          ]
        }
      ]
    },
    {
      "cell_type": "markdown",
      "source": [
        "# Assignment 2:\n",
        "- Write a python program that;\n",
        "1. Picks a secret number (e.g 7)\n",
        "2. Asks the user to guess the number\n",
        "3. keep asking until the user gueses correclty (Using the while loop)\n",
        "4. Print \"Congratulations, you guess it right\" when the answer is correct"
      ],
      "metadata": {
        "id": "q__f1I6Ef_6Y"
      }
    },
    {
      "cell_type": "code",
      "source": [
        "# The secret number that the user needs to guess\n",
        "secret_number = 7\n",
        "\n",
        "# Start with a guess that is not correct\n",
        "guess = 0\n",
        "\n",
        "print(\"Guess the secret number between 1 and 10.\")\n",
        "\n",
        "# Keep asking for a guess until the user is correct\n",
        "while guess != secret_number:\n",
        "    # Ask the user to guess and convert their answer to a number\n",
        "    guess = int(input(\"Enter your guess: \"))\n",
        "\n",
        "    if guess < secret_number:\n",
        "        print(\"try again.\")\n",
        "    elif guess > secret_number:\n",
        "        print(\"try again.\")\n",
        "\n",
        "# The code only reaches this line once the user guesses correctly\n",
        "print(\"Congratulations, you guessed it right!\")"
      ],
      "metadata": {
        "colab": {
          "base_uri": "https://localhost:8080/"
        },
        "id": "MIt7qxevgE3X",
        "outputId": "d3157172-8a46-472a-e289-5d57590aae85"
      },
      "execution_count": 5,
      "outputs": [
        {
          "output_type": "stream",
          "name": "stdout",
          "text": [
            "Guess the secret number between 1 and 10.\n",
            "Enter your guess: 9\n",
            "try again.\n",
            "Enter your guess: 3\n",
            "try again.\n",
            "Enter your guess: 6\n",
            "try again.\n",
            "Enter your guess: 5\n",
            "try again.\n",
            "Enter your guess: 7\n",
            "Congratulations, you guessed it right!\n"
          ]
        }
      ]
    },
    {
      "cell_type": "markdown",
      "source": [
        "# Assignment Research 3:\n",
        "Reseach and practive the following about functions:\n",
        "1. How to write Keywword arguments\n",
        "2. Variable number of arguments\n",
        "  - *args\n",
        "  - **kwargs\n"
      ],
      "metadata": {
        "id": "XEPsLsGaF9NA"
      }
    },
    {
      "cell_type": "markdown",
      "source": [
        "1. How to write keyword arguments\n",
        "- you can specify the name of the argument when you call the function. This makes the code easier to read because it's clear what each value is for, and you don't have to remember the order of the parameters."
      ],
      "metadata": {
        "id": "oT7fJOYivXd6"
      }
    },
    {
      "cell_type": "code",
      "source": [
        "# keyword arguments\n",
        "def describe_student(name, gender, country):\n",
        "\n",
        "    print(f\"Name: {name}\")\n",
        "    print(f\"Grade: {gender}\")\n",
        "    print(f\"City: {country}\")\n",
        "\n",
        "describe_student(country=\"Bhutan\", gender=\"male\", name=\"Prakash\")"
      ],
      "metadata": {
        "colab": {
          "base_uri": "https://localhost:8080/"
        },
        "id": "64xwbQvou6lS",
        "outputId": "97a803d7-5a20-4020-f2d3-2f6585cbaf4a"
      },
      "execution_count": 6,
      "outputs": [
        {
          "output_type": "stream",
          "name": "stdout",
          "text": [
            "Name: Prakash\n",
            "Grade: male\n",
            "City: Bhutan\n"
          ]
        }
      ]
    },
    {
      "cell_type": "markdown",
      "source": [
        "*args\n",
        "- This code defines a function that can accept any number of arguments, which are then collected into a tuple.\n",
        "\n",
        "-Lets a function take any number of extra arguments. The function collects all these arguments into a tuple, which I can then loop through or access. This is useful when you don't know how many inputs you will get."
      ],
      "metadata": {
        "id": "EBdJ8FGAwifh"
      }
    },
    {
      "cell_type": "code",
      "source": [
        "def make_shopping_list(store, *items):\n",
        "    \"\"\"Creates a shopping list for a given store with a variable number of items.\"\"\"\n",
        "    print(f\"Shopping at: {store}\")\n",
        "    print(\"Items to buy:\")\n",
        "    # The 'items' variable is a tuple containing all extra arguments\n",
        "    for item in items:\n",
        "        print(f\"- {item}\")\n",
        "\n",
        "# The function can be called with different numbers of items\n",
        "make_shopping_list(\"Grocery Store\", \"Milk\", \"Bread\", \"Eggs\")\n",
        "make_shopping_list(\"Hardware Store\", \"Hammer\", \"Nails\")"
      ],
      "metadata": {
        "colab": {
          "base_uri": "https://localhost:8080/"
        },
        "id": "LtJhW6NgxnaE",
        "outputId": "5b75c696-03fd-467e-eed8-6d5ea167cee0"
      },
      "execution_count": 7,
      "outputs": [
        {
          "output_type": "stream",
          "name": "stdout",
          "text": [
            "Shopping at: Grocery Store\n",
            "Items to buy:\n",
            "- Milk\n",
            "- Bread\n",
            "- Eggs\n",
            "Shopping at: Hardware Store\n",
            "Items to buy:\n",
            "- Hammer\n",
            "- Nails\n"
          ]
        }
      ]
    },
    {
      "cell_type": "markdown",
      "source": [
        "**kwargs\n",
        "- This code defines a function that takes an unknown number of keyword (named) arguments, which are stored in a dictionary.\n",
        "\n",
        "-  lets a function accept any number of extra keyword arguments, which it collects into a dictionary. This is perfect for when you have optional or different named inputs.\""
      ],
      "metadata": {
        "id": "HkPUp50-zfyL"
      }
    },
    {
      "cell_type": "code",
      "source": [
        "def print_user_info(**info):\n",
        "    \"\"\"Prints user information from a variable number of keyword arguments.\"\"\"\n",
        "    print(\"User Profile:\")\n",
        "    # The 'info' variable is a dictionary containing all keyword arguments\n",
        "    for key, value in info.items():\n",
        "        print(f\"{key}: {value}\")\n",
        "\n",
        "print_user_info(name=\"Prakash\", age=39, occupation=\"Accountant\")\n",
        "print_user_info(name=\"Kezang\", country=\"Bhutan\")"
      ],
      "metadata": {
        "colab": {
          "base_uri": "https://localhost:8080/"
        },
        "id": "FEmhffGF1ZUK",
        "outputId": "826ddd8f-45ca-4fe2-b5e2-62a55ee16cec"
      },
      "execution_count": 8,
      "outputs": [
        {
          "output_type": "stream",
          "name": "stdout",
          "text": [
            "User Profile:\n",
            "name: Prakash\n",
            "age: 39\n",
            "occupation: Accountant\n",
            "User Profile:\n",
            "name: Kezang\n",
            "country: Bhutan\n"
          ]
        }
      ]
    },
    {
      "cell_type": "markdown",
      "source": [],
      "metadata": {
        "id": "WHvmk_EAA-jv"
      }
    },
    {
      "cell_type": "markdown",
      "source": [
        "# Assignment 4 on Functions:\n",
        "Create a calculator\n",
        "\n",
        "Write a python program that:\n",
        "1. Defines a function called calculate_grade(marks) that:\n",
        "  - Takes marks (0-100) as input\n",
        "  - Returns the grade based the this scale\n",
        "    - 90-100 - A\n",
        "    - 80-89 - B\n",
        "    - 70-79 - C\n",
        "    - 60 - 69 - D\n",
        "    - Below 60 - F\n",
        "2. Ask the user to enter their marks\n",
        "3. Call the function and print \"Your grade is X\""
      ],
      "metadata": {
        "id": "Oe0xa_z7HzK7"
      }
    },
    {
      "cell_type": "code",
      "source": [
        "def calculate_grade(marks):\n",
        "    \"\"\"Takes marks and returns the letter grade.\"\"\"\n",
        "    if marks >= 90:\n",
        "        return 'A'\n",
        "    elif marks >= 80:\n",
        "        return 'B'\n",
        "    elif marks >= 70:\n",
        "        return 'C'\n",
        "    elif marks >= 60:\n",
        "        return 'D'\n",
        "    else:\n",
        "        return 'F'\n",
        "\n",
        "# Ask the user for their marks\n",
        "user_marks = int(input(\"Enter your marks (0-100): \"))\n",
        "\n",
        "# Get the grade from the function\n",
        "grade = calculate_grade(user_marks)\n",
        "\n",
        "# Print the final result\n",
        "print(f\"Your grade is {grade}\")"
      ],
      "metadata": {
        "colab": {
          "base_uri": "https://localhost:8080/"
        },
        "id": "gpmquJjEIqiV",
        "outputId": "31ff5c58-5c7a-49b5-bc45-03bd25dc39ab"
      },
      "execution_count": 9,
      "outputs": [
        {
          "output_type": "stream",
          "name": "stdout",
          "text": [
            "Enter your marks (0-100): 40\n",
            "Your grade is F\n"
          ]
        }
      ]
    }
  ]
}